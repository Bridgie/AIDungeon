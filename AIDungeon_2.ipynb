{
  "nbformat": 4,
  "nbformat_minor": 2,
  "metadata": {
    "colab": {
      "name": "AIDungeon 2.ipynb",
      "provenance": [],
      "collapsed_sections": [],
      "toc_visible": true
    },
    "kernelspec": {
      "name": "python3",
      "display_name": "Python 3.7.6 64-bit ('venv': venv)"
    },
    "accelerator": "GPU",
    "language_info": {
      "name": "python",
      "version": "3.7.6",
      "mimetype": "text/x-python",
      "codemirror_mode": {
        "name": "ipython",
        "version": 3
      },
      "pygments_lexer": "ipython3",
      "nbconvert_exporter": "python",
      "file_extension": ".py"
    },
    "interpreter": {
      "hash": "a04d4008502f1cb7426fff269d63a3e5ccd00f4a9655eda315920a42f9eabdd0"
    }
  },
  "cells": [
    {
      "cell_type": "markdown",
      "source": [
        "![BYU PCCL](https://pcc4318.files.wordpress.com/2018/02/asset-1.png?w=150)\n",
        "\n",
        "Sponsored by the BYU PCCL Lab.\n",
        "\n",
        "> AI Dungeon 2 is a completely AI generated text adventure built with OpenAI's largest GPT-2 model. It's a first of it's kind game that allows you to enter and will react to any action you can imagine.\n",
        "\n",
        "# What is this?\n",
        "Google Colab is a way to experience machine learning for free. Google provides GPUs that you can run code in. Because this game exploded however, Google likely won't be able to allow free usage of it for AI Dungeon for very long. We are almost done making an app version of the game where you will be able to play AI Dungeon 2. Until that's released you can still play the game here.\n",
        "\n",
        "# Main mirrors of AI Dungeon 2 are currently down due to high download costs.\n",
        "We are using bittorrent as a temporary solution to host game files and keep this game alive. It's not fast, but it's the best we've got right now.\n",
        "\n",
        "If you want to help, best thing you can do is to **[download this torrent file with game files](https://github.com/nickwalton/AIDungeon/files/3935881/model_v5.torrent.zip)** and **seed it** indefinitely to the best of your ability. This will help new players download this game faster, and discover the vast worlds of AIDungeon2!\n",
        "\n",
        "- <a href=\"https://twitter.com/nickwalton00?ref_src=twsrc%5Etfw\" class=\"twitter-follow-button\" data-show-count=\"false\">Follow @nickwalton00</a> on Twitter for updates on when it will be available again.\n",
        "- **[Support AI Dungeon 2](https://www.patreon.com/AIDungeon) on Patreon to help me to continue improving the game with all the awesome ideas I have for its future!**\n",
        "\n",
        "## How to play\n",
        "1. Click \"Tools\"-> \"Settings...\" -> \"Theme\" -> \"Dark\" (optional but recommended)\n",
        "2. Go to **Main Game** section below\n",
        "3. Run Install block\n",
        "3. Run Download Model block \n",
        "4. It will then take a couple minutes to boot up as the model is downloaded loaded onto the GPU. \n",
        "5. Run the game block \n",
        "6. If you have questions about getting it to work then please [go to github repo](https://github.com/AIDungeon/AIDungeon) to get help. \n",
        "\n",
        "## About\n",
        "- While you wait you can [read adventures others have had](https://aidungeon.io/)\n",
        "- [Read more](https://pcc.cs.byu.edu/2019/11/21/ai-dungeon-2-creating-infinitely-generated-text-adventures-with-deep-learning-language-models/) about how AI Dungeon 2 is made.\n",
        "- **[Support AI Dungeon 2](https://www.patreon.com/bePatron?u=19115449) on Patreon to help me to continue improving the game with all the awesome ideas I have for its future!**"
      ],
      "metadata": {
        "colab_type": "text",
        "id": "pdmJ358wwzmv"
      }
    },
    {
      "cell_type": "markdown",
      "source": [
        "# Main Game"
      ],
      "metadata": {
        "colab_type": "text",
        "id": "pyNN-3UDv0L-"
      }
    },
    {
      "cell_type": "code",
      "execution_count": null,
      "source": [
        "# Install\r\n",
        "!git clone --depth 1 --branch master https://github.com/AIDungeon/AIDungeon/\r\n",
        "%cd AIDungeon\r\n",
        "!./install.sh\r\n",
        "from IPython.display import clear_output\r\n",
        "clear_output()\r\n",
        "print(\"Installation Complete!\")"
      ],
      "outputs": [],
      "metadata": {
        "colab": {},
        "colab_type": "code",
        "id": "FKqlSCrpS9dH"
      }
    },
    {
      "cell_type": "code",
      "execution_count": null,
      "source": [
        "# Download model from torrent:\r\n",
        "!./download_model.sh\r\n",
        "from IPython.display import clear_output\r\n",
        "clear_output()\r\n",
        "print(\"Download Complete!\")"
      ],
      "outputs": [],
      "metadata": {
        "colab": {},
        "colab_type": "code",
        "id": "fiywfTj--_Pe"
      }
    },
    {
      "cell_type": "code",
      "execution_count": 9,
      "source": [
        "# Play\r\n",
        "# from IPython.display import Javascript\r\n",
        "# display(Javascript('''google.colab.output.setIframeHeight(0, true, {maxHeight: 5000})'''))\r\n",
        "!.\\venv\\Scripts\\activate\r\n",
        "!.\\venv\\Scripts\\python play.py"
      ],
      "outputs": [
        {
          "output_type": "display_data",
          "data": {
            "application/javascript": "google.colab.output.setIframeHeight(0, true, {maxHeight: 5000})",
            "text/plain": [
              "<IPython.core.display.Javascript object>"
            ]
          },
          "metadata": {}
        }
      ],
      "metadata": {
        "colab": {},
        "colab_type": "code",
        "id": "YjArwbWh6XwN"
      }
    },
    {
      "cell_type": "markdown",
      "source": [
        "# Utilities (Persistent Save / Load, OOM Fix)"
      ],
      "metadata": {
        "colab_type": "text",
        "id": "kIldfwd8wjvT"
      }
    },
    {
      "cell_type": "code",
      "execution_count": null,
      "source": [
        "# RUN THIS FIRST before running any block below.\r\n",
        "# This block mount Google Drive to our workspace \r\n",
        "# so we can save to and load from it!\r\n",
        "\r\n",
        "import pathlib\r\n",
        "from distutils.dir_util import copy_tree\r\n",
        "from google.colab import drive\r\n",
        "\r\n",
        "drive.mount('/content/drive')\r\n",
        "\r\n",
        "drive_stories_directory=\"/content/drive/My Drive/AIDungeon/saved_stories\"\r\n",
        "colab_stories_directory=\"/content/AIDungeon/saved_stories\"\r\n",
        "\r\n",
        "drive_model_directory=\"/content/drive/My Drive/Data/model_v5\"\r\n",
        "colab_model_directory=\"/content/AIDungeon/generator/gpt2/models/model_v5\"\r\n",
        "\r\n",
        "pathlib.Path(drive_stories_directory).mkdir(parents=True, exist_ok=True) "
      ],
      "outputs": [],
      "metadata": {
        "colab": {},
        "colab_type": "code",
        "id": "zLx1yMu9wwBg"
      }
    },
    {
      "cell_type": "code",
      "execution_count": null,
      "source": [
        "# Save stories to your Google Drive\r\n",
        "copy_tree(\r\n",
        "    colab_stories_directory, \r\n",
        "    drive_stories_directory\r\n",
        ")"
      ],
      "outputs": [],
      "metadata": {
        "colab": {},
        "colab_type": "code",
        "id": "LWfm6q8tAbDB"
      }
    },
    {
      "cell_type": "code",
      "execution_count": null,
      "source": [
        "# Load stories from your Google Drive\r\n",
        "copy_tree(\r\n",
        "    drive_stories_directory, \r\n",
        "    colab_stories_directory\r\n",
        ")"
      ],
      "outputs": [],
      "metadata": {
        "colab": {},
        "colab_type": "code",
        "id": "HK2DO1jFxnv6"
      }
    },
    {
      "cell_type": "code",
      "execution_count": null,
      "source": [
        "# Backup model from Colab to Google Drive. Requires 6.5GB of space!\r\n",
        "copy_tree(\r\n",
        "    colab_model_directory,\r\n",
        "    drive_model_directory\r\n",
        ")"
      ],
      "outputs": [],
      "metadata": {
        "colab": {},
        "colab_type": "code",
        "id": "Ue0qY7mvKrZ0"
      }
    },
    {
      "cell_type": "code",
      "execution_count": null,
      "source": [
        "# Copy model from Google Drive. Make sure the model is uploaded to your personal Drive. \r\n",
        "# It should resides in a Data folder. The path is: /Data/model_v5/\r\n",
        "copy_tree(\r\n",
        "    drive_model_directory, \r\n",
        "    colab_model_directory\r\n",
        ")"
      ],
      "outputs": [],
      "metadata": {
        "colab": {},
        "colab_type": "code",
        "id": "XqK7MXhG40Oa"
      }
    },
    {
      "cell_type": "code",
      "execution_count": null,
      "source": [
        "# If you get an OOM (out of memory error, random crashes) \r\n",
        "# you might want to increase the available RAM. \r\n",
        "\r\n",
        "# To do so, run this block. Wait until it crashes\r\n",
        "# and a little message will pops up asking if \r\n",
        "# you'd like to increase the available memory. Say yes and run the game.\r\n",
        "# Credit goes to bpseudopod for figuring this out.\r\n",
        "# Source: https://www.reddit.com/r/AIDungeon/comments/e782oi/tips_for_crash_prevention/\r\n",
        "\r\n",
        "d = []\r\n",
        "while True:\r\n",
        "    d.append(1)"
      ],
      "outputs": [
        {
          "output_type": "error",
          "ename": "",
          "evalue": "Error: Jupyter cannot be started. Error attempting to locate jupyter: Error: Module 'notebook' not installed.",
          "traceback": [
            "Error: Jupyter cannot be started. Error attempting to locate jupyter: Error: Module 'notebook' not installed."
          ]
        }
      ],
      "metadata": {}
    }
  ]
}